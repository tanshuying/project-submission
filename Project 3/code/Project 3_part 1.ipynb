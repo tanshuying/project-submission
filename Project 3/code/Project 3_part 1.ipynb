{
 "cells": [
  {
   "cell_type": "markdown",
   "id": "1ac91e5b-2f37-439f-a25c-16db566bb08f",
   "metadata": {},
   "source": [
    "<img src=\"http://imgur.com/1ZcRyrc.png\" style=\"float: left; margin: 20px; height: 55px\">\n",
    "\n",
    "# Project 3: Web APIs & NLP"
   ]
  },
  {
   "cell_type": "markdown",
   "id": "c4fd05bc-613d-4c12-9686-af7ffc106331",
   "metadata": {},
   "source": [
    "--- \n",
    "**Primary Learning Objectives:**\n",
    "1. Collect posts from two subreddits of our choice. \n",
    "2. Use NLP to train a classifier on which subreddit a given post came from. This is a binary classification problem.\n",
    "\n",
    "---"
   ]
  },
  {
   "cell_type": "markdown",
   "id": "e487b90f-06fb-4e10-a307-60bceeecc972",
   "metadata": {
    "jp-MarkdownHeadingCollapsed": true,
    "tags": []
   },
   "source": [
    "## Contents:\n",
    "- Background\n",
    "- Problem Statement\n",
    "- Scrapping Reddit Data"
   ]
  },
  {
   "cell_type": "markdown",
   "id": "868651fd-8448-4b5a-b98a-98adb6427d57",
   "metadata": {},
   "source": [
    "## Background\n",
    "\n",
    "Project 3 involves two main objectives. \n",
    "- Firstly, the project requires the collection of posts from two chosen subreddits. To accomplish this, the Pushshift API can be used or any other low-code platform. It is also possible to web-scrape or use other low-code platforms such as ParseHub to collect data from different social media platforms such as Twitter, Facebook, Instagram, or Wikipedia.\n",
    "\n",
    "- Secondly, the project involves training a classifier using Natural Language Processing (NLP) techniques. The classifier is trained to predict which subreddit (or other sub-sections of the site that the data is collected from) a post belongs to. This is a binary classification problem, and the model will be trained to classify posts as belonging to one of the two chosen subreddits.\n",
    "\n",
    "\n",
    "In this project, we will explore the following two sub reddits:\n",
    "1) [Retirement](https://www.reddit.com/r/retirement/)\n",
    "2) [Financial Planning](https://www.reddit.com/r/FinancialPlanning/)"
   ]
  },
  {
   "cell_type": "markdown",
   "id": "c50fad35-d881-4baf-8654-6be644768a33",
   "metadata": {},
   "source": [
    "## Data\n",
    "\n",
    "Data from the subreddits r/retirement and r/FinancialPlanning were used for this project.These are:\n",
    "*  Retirement: https://www.reddit.com/r/retirement/\n",
    "*  Financial Planning: https://www.reddit.com/r/FinancialPlanning/\n",
    "\n",
    "A total of 2,000 posts per subreddit were scrapped. These were the most recent posts created before 4 Feb 2023 and 8 Mar 2023 for the financial planning and retirement subreddits respectively. \n",
    "\n",
    "The data from the subreddits provide valuable insights into the concerns, strategies, and experiences of individuals planning for their financial future and retirement."
   ]
  },
  {
   "cell_type": "markdown",
   "id": "01ec0fab-f96c-4cbe-984b-071afb2aa95b",
   "metadata": {
    "jp-MarkdownHeadingCollapsed": true,
    "tags": []
   },
   "source": [
    "## Problem Statement\n",
    "\n",
    "The goal of this project is to develop a classifier that can accurately distinguish between posts from two subreddits, Retirement and Financial Planning. This is important because although both subreddits deal with personal finance, they have distinct differences in their focus and audience. \n",
    "\n",
    "Being able to differentiate between the two subreddits can help financial professionals and individuals better tailor their content and advice to the specific needs and interests of their audience. \n",
    "\n",
    "To achieve this, natural language processing techniques will be used to analyze the content of posts from both subreddits and build a classifier that can accurately identify which subreddit a given post belongs to. \n",
    "\n",
    "The success of the project will be measured by the accuracy of the classifier in correctly identifying the source subreddit of new posts. The accuracy score is selected as the decision metric as it tells us how often the model correctly predicts the class of a post. The cost of misclassification is equal across the classes of retirement and financial planning since there are significant overlaps in features, and retirement adequacy is a major component in personal financial planning. A post related to retirement would help provide related information that an individual could consider when embarking on personal financial planning; while posts on financial planning will help those who are interested in retirement source for relevant information to provide better financial independence and peace of mind."
   ]
  },
  {
   "cell_type": "markdown",
   "id": "93413d67-8931-4847-8fce-e57aa385ef37",
   "metadata": {},
   "source": [
    "## Scrapping Reddit Data"
   ]
  },
  {
   "cell_type": "markdown",
   "id": "97438993-6564-4e76-b502-7334921347df",
   "metadata": {},
   "source": [
    "First 1,000 posts under Retirement Subreddit"
   ]
  },
  {
   "cell_type": "code",
   "execution_count": 1,
   "id": "3a14e356-412e-47c6-acf1-a3627d0ff6fd",
   "metadata": {},
   "outputs": [],
   "source": [
    "# Import libaries\n",
    "import requests\n",
    "from bs4 import BeautifulSoup\n",
    "import time\n",
    "import pandas as pd\n",
    "import json"
   ]
  },
  {
   "cell_type": "code",
   "execution_count": 2,
   "id": "2005e9d7-18c8-4da2-bdc3-28002a909a71",
   "metadata": {},
   "outputs": [],
   "source": [
    "url = 'https://api.pushshift.io/reddit/search/submission'"
   ]
  },
  {
   "cell_type": "code",
   "execution_count": 3,
   "id": "27ecae5b-2609-455d-bf6f-c1e31488dd47",
   "metadata": {},
   "outputs": [],
   "source": [
    "params = {\n",
    "        'subreddit':'retirement',\n",
    "        'size': 1000,\n",
    "        'before': 1678306393\n",
    "}"
   ]
  },
  {
   "cell_type": "code",
   "execution_count": 4,
   "id": "3953b2f3-fab2-4dbd-a5b4-d32f590969b6",
   "metadata": {},
   "outputs": [],
   "source": [
    "# Send API request\n",
    "res = requests.get(url, params=params)"
   ]
  },
  {
   "cell_type": "code",
   "execution_count": 5,
   "id": "658005b9-9435-448a-a468-f32f33c4c00a",
   "metadata": {},
   "outputs": [
    {
     "data": {
      "text/plain": [
       "200"
      ]
     },
     "execution_count": 5,
     "metadata": {},
     "output_type": "execute_result"
    }
   ],
   "source": [
    "# Check status code\n",
    "res.status_code"
   ]
  },
  {
   "cell_type": "code",
   "execution_count": 6,
   "id": "91557dc0-7e9f-40cf-880c-0d743ad059bb",
   "metadata": {},
   "outputs": [],
   "source": [
    "#convert response to dataframe\n",
    "posts = res.json()['data']\n",
    "df = pd.DataFrame(posts)"
   ]
  },
  {
   "cell_type": "code",
   "execution_count": 7,
   "id": "aa2f8b81-89d6-416b-bfea-d0c93b2fed53",
   "metadata": {},
   "outputs": [
    {
     "data": {
      "text/plain": [
       "1000"
      ]
     },
     "execution_count": 7,
     "metadata": {},
     "output_type": "execute_result"
    }
   ],
   "source": [
    "#check len\n",
    "len(posts)"
   ]
  },
  {
   "cell_type": "code",
   "execution_count": 8,
   "id": "cd2435da-c651-4d92-8d27-e6d28cfd297b",
   "metadata": {},
   "outputs": [],
   "source": [
    "# Save out first 1000 posts for retirement subreddit\n",
    "df.to_csv('../data/retirement_a.csv', index=False)"
   ]
  },
  {
   "cell_type": "code",
   "execution_count": 9,
   "id": "277cf8c3-f35f-43d0-8993-188e5b21795d",
   "metadata": {},
   "outputs": [
    {
     "data": {
      "text/plain": [
       "{'distinguished': None,\n",
       " 'gilded': 0,\n",
       " 'media': None,\n",
       " 'link_flair_text': None,\n",
       " 'retrieved_on': 1459195522,\n",
       " 'from_kind': None,\n",
       " 'is_self': True,\n",
       " 'thumbnail': 'self',\n",
       " 'author_flair_css_class': None,\n",
       " 'title': 'Can I front-load my 401k to the Annual Max if I am not planning to be there for the full year?',\n",
       " 'hide_score': False,\n",
       " 'media_embed': {},\n",
       " 'downs': 0,\n",
       " 'link_flair_css_class': None,\n",
       " 'selftext': 'Just what it says. Any reason why I cannot defer most of my paycheck the first few months to hit my max contributions, and then either retire, leave, or set my contributions to zero the rest of the way?   Assume I have no company match to contend with. Thank you!',\n",
       " 'subreddit_id': 't5_2tgdb',\n",
       " 'locked': False,\n",
       " 'secure_media': None,\n",
       " 'ups': 3,\n",
       " 'score': 3,\n",
       " 'quarantine': False,\n",
       " 'author': 'rodg89',\n",
       " 'archived': False,\n",
       " 'secure_media_embed': {},\n",
       " 'subreddit': 'retirement',\n",
       " 'stickied': False,\n",
       " 'over_18': False,\n",
       " 'url': 'https://www.reddit.com/r/retirement/comments/46d97p/can_i_frontload_my_401k_to_the_annual_max_if_i_am/',\n",
       " 'edited': False,\n",
       " 'author_flair_text': None,\n",
       " 'domain': 'self.retirement',\n",
       " 'id': '46d97p',\n",
       " 'from_id': None,\n",
       " 'num_comments': 7,\n",
       " 'saved': False,\n",
       " 'permalink': '/r/retirement/comments/46d97p/can_i_frontload_my_401k_to_the_annual_max_if_i_am/',\n",
       " 'created_utc': 1455773644,\n",
       " 'from': None,\n",
       " 'retrieved_utc': 1459195522,\n",
       " 'updated_utc': 1678395274,\n",
       " 'utc_datetime_str': '2016-02-18 05:34:04'}"
      ]
     },
     "execution_count": 9,
     "metadata": {},
     "output_type": "execute_result"
    }
   ],
   "source": [
    "posts[999]"
   ]
  },
  {
   "cell_type": "markdown",
   "id": "a49af46f-9b22-4199-992f-a92a39e4e7d6",
   "metadata": {},
   "source": [
    "Second 1,000 posts for retirement subreddit"
   ]
  },
  {
   "cell_type": "code",
   "execution_count": 10,
   "id": "0ef2da2a-0b7f-4bde-84ef-1995264dad8c",
   "metadata": {},
   "outputs": [],
   "source": [
    "params_b = {\n",
    "        'subreddit':'retirement',\n",
    "        'size': 1000,\n",
    "        'before': 1454975161\n",
    "}"
   ]
  },
  {
   "cell_type": "code",
   "execution_count": 11,
   "id": "c17a7dee-d63b-4988-b806-c89bc7db884b",
   "metadata": {},
   "outputs": [],
   "source": [
    "# Send API request\n",
    "res = requests.get(url, params=params_b)"
   ]
  },
  {
   "cell_type": "code",
   "execution_count": 12,
   "id": "20d9b66a-ba2e-47b3-8862-619a8510ca8b",
   "metadata": {},
   "outputs": [
    {
     "data": {
      "text/plain": [
       "200"
      ]
     },
     "execution_count": 12,
     "metadata": {},
     "output_type": "execute_result"
    }
   ],
   "source": [
    "# Check status code\n",
    "res.status_code"
   ]
  },
  {
   "cell_type": "code",
   "execution_count": 13,
   "id": "5722b2fb-e48c-4b44-851d-b18da5e0d50e",
   "metadata": {},
   "outputs": [],
   "source": [
    "#convert response to dataframe\n",
    "posts = res.json()['data']\n",
    "df = pd.DataFrame(posts)"
   ]
  },
  {
   "cell_type": "code",
   "execution_count": 14,
   "id": "8215d704-8dcf-4500-a93d-ec4e1df1ae5b",
   "metadata": {},
   "outputs": [
    {
     "data": {
      "text/plain": [
       "1000"
      ]
     },
     "execution_count": 14,
     "metadata": {},
     "output_type": "execute_result"
    }
   ],
   "source": [
    "#check len\n",
    "len(posts)"
   ]
  },
  {
   "cell_type": "code",
   "execution_count": 15,
   "id": "b922611c-b292-4a9d-834a-e17affdc02d6",
   "metadata": {},
   "outputs": [],
   "source": [
    "# Save out second 1000 posts for retirement subreddit\n",
    "df.to_csv('../data/retirement_b.csv', index=False)"
   ]
  },
  {
   "cell_type": "markdown",
   "id": "a0eeaf4e-b27d-4e6d-80ff-6f08c88ed90d",
   "metadata": {},
   "source": [
    "First 1,000 posts under Financial Planning subreddit"
   ]
  },
  {
   "cell_type": "code",
   "execution_count": 16,
   "id": "8aaa81df-29a7-44f6-b4ad-31cbd6141ec1",
   "metadata": {},
   "outputs": [],
   "source": [
    "params_c = {\n",
    "        'subreddit':'FinancialPlanning',\n",
    "        'size': 1000,\n",
    "        'before': 1678306393\n",
    "}"
   ]
  },
  {
   "cell_type": "code",
   "execution_count": 17,
   "id": "a868f6d2-644d-4ed5-b809-582b22b17b2a",
   "metadata": {},
   "outputs": [],
   "source": [
    "# Send API request\n",
    "res = requests.get(url, params=params_c)"
   ]
  },
  {
   "cell_type": "code",
   "execution_count": 18,
   "id": "d3027542-e1c3-40e2-852c-368dbcca23ec",
   "metadata": {},
   "outputs": [
    {
     "data": {
      "text/plain": [
       "200"
      ]
     },
     "execution_count": 18,
     "metadata": {},
     "output_type": "execute_result"
    }
   ],
   "source": [
    "# Check status code\n",
    "res.status_code"
   ]
  },
  {
   "cell_type": "code",
   "execution_count": 19,
   "id": "00c89752-c7bd-4c88-b635-6c7a6087d647",
   "metadata": {},
   "outputs": [],
   "source": [
    "#convert response to dataframe\n",
    "posts = res.json()['data']\n",
    "df = pd.DataFrame(posts)"
   ]
  },
  {
   "cell_type": "code",
   "execution_count": 20,
   "id": "ccfb6c09-580d-4de2-858a-db89a31f3a2a",
   "metadata": {},
   "outputs": [
    {
     "data": {
      "text/plain": [
       "1000"
      ]
     },
     "execution_count": 20,
     "metadata": {},
     "output_type": "execute_result"
    }
   ],
   "source": [
    "#check len\n",
    "len(posts)"
   ]
  },
  {
   "cell_type": "code",
   "execution_count": 21,
   "id": "eec01e1d-8e12-4c6a-8f45-0b1854078d52",
   "metadata": {},
   "outputs": [],
   "source": [
    "# Save out first 1000 posts for financial planning subreddit\n",
    "df.to_csv('../data/fp_a.csv', index=False)"
   ]
  },
  {
   "cell_type": "code",
   "execution_count": 22,
   "id": "92ef7973-da1a-402a-b181-41f2460990d9",
   "metadata": {},
   "outputs": [
    {
     "data": {
      "text/plain": [
       "{'subreddit': 'FinancialPlanning',\n",
       " 'selftext': '[removed]',\n",
       " 'author_fullname': 't2_94f77wog',\n",
       " 'gilded': 0,\n",
       " 'title': 'What are some behavioral characteristics of high NW individuals?',\n",
       " 'link_flair_richtext': [],\n",
       " 'subreddit_name_prefixed': 'r/FinancialPlanning',\n",
       " 'hidden': False,\n",
       " 'pwls': 6,\n",
       " 'link_flair_css_class': None,\n",
       " 'thumbnail_height': None,\n",
       " 'top_awarded_type': None,\n",
       " 'hide_score': True,\n",
       " 'quarantine': False,\n",
       " 'link_flair_text_color': 'dark',\n",
       " 'upvote_ratio': 1.0,\n",
       " 'author_flair_background_color': None,\n",
       " 'subreddit_type': 'public',\n",
       " 'total_awards_received': 0,\n",
       " 'media_embed': {},\n",
       " 'thumbnail_width': None,\n",
       " 'author_flair_template_id': None,\n",
       " 'is_original_content': False,\n",
       " 'secure_media': None,\n",
       " 'is_reddit_media_domain': False,\n",
       " 'is_meta': False,\n",
       " 'category': None,\n",
       " 'secure_media_embed': {},\n",
       " 'link_flair_text': None,\n",
       " 'score': 1,\n",
       " 'is_created_from_ads_ui': False,\n",
       " 'author_premium': False,\n",
       " 'thumbnail': 'self',\n",
       " 'edited': False,\n",
       " 'author_flair_css_class': None,\n",
       " 'author_flair_richtext': [],\n",
       " 'gildings': {},\n",
       " 'content_categories': None,\n",
       " 'is_self': True,\n",
       " 'link_flair_type': 'text',\n",
       " 'wls': 6,\n",
       " 'removed_by_category': 'reddit',\n",
       " 'author_flair_type': 'text',\n",
       " 'domain': 'self.FinancialPlanning',\n",
       " 'allow_live_comments': False,\n",
       " 'suggested_sort': None,\n",
       " 'view_count': None,\n",
       " 'archived': False,\n",
       " 'no_follow': True,\n",
       " 'is_crosspostable': False,\n",
       " 'pinned': False,\n",
       " 'over_18': False,\n",
       " 'all_awardings': [],\n",
       " 'awarders': [],\n",
       " 'media_only': False,\n",
       " 'can_gild': True,\n",
       " 'spoiler': False,\n",
       " 'locked': False,\n",
       " 'author_flair_text': None,\n",
       " 'treatment_tags': [],\n",
       " 'removed_by': None,\n",
       " 'distinguished': None,\n",
       " 'subreddit_id': 't5_2qwze',\n",
       " 'link_flair_background_color': '',\n",
       " 'id': '10t6pwx',\n",
       " 'is_robot_indexable': False,\n",
       " 'author': 'cochodogo88',\n",
       " 'discussion_type': None,\n",
       " 'num_comments': 0,\n",
       " 'send_replies': True,\n",
       " 'whitelist_status': 'all_ads',\n",
       " 'contest_mode': False,\n",
       " 'author_patreon_flair': False,\n",
       " 'author_flair_text_color': None,\n",
       " 'permalink': '/r/FinancialPlanning/comments/10t6pwx/what_are_some_behavioral_characteristics_of_high/',\n",
       " 'parent_whitelist_status': 'all_ads',\n",
       " 'stickied': False,\n",
       " 'url': 'https://www.reddit.com/r/FinancialPlanning/comments/10t6pwx/what_are_some_behavioral_characteristics_of_high/',\n",
       " 'subreddit_subscribers': 526330,\n",
       " 'created_utc': 1675490930,\n",
       " 'num_crossposts': 0,\n",
       " 'media': None,\n",
       " 'is_video': False,\n",
       " 'retrieved_utc': 1675490947,\n",
       " 'updated_utc': 1675490947,\n",
       " 'utc_datetime_str': '2023-02-04 06:08:50'}"
      ]
     },
     "execution_count": 22,
     "metadata": {},
     "output_type": "execute_result"
    }
   ],
   "source": [
    "posts[999]"
   ]
  },
  {
   "cell_type": "markdown",
   "id": "5c57ad09-f06a-4657-9e4c-50cc8efaff8b",
   "metadata": {},
   "source": [
    "Second 1,000 posts for Financial Planning Subreddit"
   ]
  },
  {
   "cell_type": "code",
   "execution_count": 23,
   "id": "52051dbe-fa04-4b26-a6ed-42982ed0f28e",
   "metadata": {},
   "outputs": [],
   "source": [
    "params_d = {\n",
    "        'subreddit':'FinancialPlanning',\n",
    "        'size': 1000,\n",
    "        'before': 1675490930\n",
    "}"
   ]
  },
  {
   "cell_type": "code",
   "execution_count": 24,
   "id": "7fd2465c-ea64-4c61-9094-ac8ea513c682",
   "metadata": {},
   "outputs": [],
   "source": [
    "# Send API request\n",
    "res = requests.get(url, params=params_d)"
   ]
  },
  {
   "cell_type": "code",
   "execution_count": 25,
   "id": "749628e8-0022-4fcd-a097-0bf2f2cd2a22",
   "metadata": {},
   "outputs": [
    {
     "data": {
      "text/plain": [
       "200"
      ]
     },
     "execution_count": 25,
     "metadata": {},
     "output_type": "execute_result"
    }
   ],
   "source": [
    "# Check status code\n",
    "res.status_code"
   ]
  },
  {
   "cell_type": "code",
   "execution_count": 26,
   "id": "cd3201ca-acff-4289-966b-72450f6bb641",
   "metadata": {},
   "outputs": [],
   "source": [
    "#convert response to dataframe\n",
    "posts = res.json()['data']\n",
    "df = pd.DataFrame(posts)"
   ]
  },
  {
   "cell_type": "code",
   "execution_count": 27,
   "id": "f939e49d-2664-400f-99b2-901b6745f0f4",
   "metadata": {},
   "outputs": [
    {
     "data": {
      "text/plain": [
       "1000"
      ]
     },
     "execution_count": 27,
     "metadata": {},
     "output_type": "execute_result"
    }
   ],
   "source": [
    "#check len\n",
    "len(posts)"
   ]
  },
  {
   "cell_type": "code",
   "execution_count": 28,
   "id": "8b4cbd2d-2051-4378-babc-f460def9bee4",
   "metadata": {},
   "outputs": [],
   "source": [
    "# Save out second 1000 posts for financial planning subreddit\n",
    "df.to_csv('../data/fp_b.csv', index=False)"
   ]
  }
 ],
 "metadata": {
  "kernelspec": {
   "display_name": "Python 3 (ipykernel)",
   "language": "python",
   "name": "python3"
  },
  "language_info": {
   "codemirror_mode": {
    "name": "ipython",
    "version": 3
   },
   "file_extension": ".py",
   "mimetype": "text/x-python",
   "name": "python",
   "nbconvert_exporter": "python",
   "pygments_lexer": "ipython3",
   "version": "3.10.9"
  }
 },
 "nbformat": 4,
 "nbformat_minor": 5
}
